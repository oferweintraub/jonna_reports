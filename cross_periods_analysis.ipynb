{
 "cells": [
  {
   "cell_type": "code",
   "execution_count": null,
   "metadata": {},
   "outputs": [],
   "source": [
    "# Cell 1: Install required packages\n",
    "%pip install pymongo python-dotenv pandas seaborn matplotlib ipython boto3 anthropic"
   ]
  },
  {
   "cell_type": "markdown",
   "metadata": {},
   "source": [
    "Fetch data"
   ]
  },
  {
   "cell_type": "code",
   "execution_count": 2,
   "metadata": {},
   "outputs": [
    {
     "name": "stdout",
     "output_type": "stream",
     "text": [
      "Successfully connected to MongoDB\n",
      "Users to analyze: ['ptr_dvd', 'SagiBarmak']\n"
     ]
    }
   ],
   "source": [
    "# Cell 2: Imports and MongoDB Setup\n",
    "import os\n",
    "from dotenv import load_dotenv\n",
    "from data_extractor import MongoDBExtractor\n",
    "from datetime import datetime, timedelta\n",
    "import pandas as pd\n",
    "\n",
    "# Load environment variables\n",
    "load_dotenv()\n",
    "\n",
    "# Initialize MongoDB extractor\n",
    "extractor = MongoDBExtractor()\n",
    "extractor.connect()\n",
    "\n",
    "# Define test users and date ranges\n",
    "test_users = ['ptr_dvd', 'SagiBarmak']\n",
    "print(\"Users to analyze:\", test_users)\n",
    "\n",
    "# Define pre-war and post-war periods\n",
    "pre_war_end = '2023-10-07'  # Day before the war\n",
    "pre_war_days = 90  # Days before war to analyze\n",
    "post_war_start = '2024-12-30'  # War start date\n",
    "post_war_days = 90  # Days of war to analyze"
   ]
  },
  {
   "cell_type": "code",
   "execution_count": 3,
   "metadata": {},
   "outputs": [
    {
     "name": "stdout",
     "output_type": "stream",
     "text": [
      "\n",
      "Fetching pre-war period data...\n",
      "Successfully connected to MongoDB\n",
      "Fetching tweets from 2023-09-07 00:00:00 to 2023-10-07 23:59:59\n",
      "Using timestamps from 1694034000 to 1696712399\n",
      "Fetched 45 tweets for ptr_dvd\n",
      "Fetched 25 tweets for SagiBarmak\n",
      "Saved raw data to: data\\raw\\pre_war\\tweets_pre_war_20250111_104435.csv\n",
      "Pre-war tweets fetched: 70\n"
     ]
    }
   ],
   "source": [
    "# Cell 3: Fetch Pre-War Data\n",
    "print(\"\\nFetching pre-war period data...\")\n",
    "pre_war_df = extractor.extract_tweets_by_date_range(\n",
    "    reference_date=pre_war_end,\n",
    "    days_back=pre_war_days,\n",
    "    usernames=test_users,\n",
    "    period_label='pre_war'\n",
    ")\n",
    "print(f\"Pre-war tweets fetched: {len(pre_war_df)}\")"
   ]
  }
 ],
 "metadata": {
  "kernelspec": {
   "display_name": "jonna_project",
   "language": "python",
   "name": "python3"
  },
  "language_info": {
   "codemirror_mode": {
    "name": "ipython",
    "version": 3
   },
   "file_extension": ".py",
   "mimetype": "text/x-python",
   "name": "python",
   "nbconvert_exporter": "python",
   "pygments_lexer": "ipython3",
   "version": "3.12.8"
  }
 },
 "nbformat": 4,
 "nbformat_minor": 2
}
